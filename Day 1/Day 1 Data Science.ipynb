{
 "cells": [
  {
   "cell_type": "markdown",
   "metadata": {},
   "source": [
    "# Day 1\n",
    "###  Python Fundamental\n",
    "\n",
    "**Variable and Data Type**  \n",
    "    * Naming Convention for variable\n",
    "    * Built in Data Type and Type casting\n",
    "    * scope of Variabe\n",
    "**Operators**\n",
    "    * Operators\n",
    "    * Arithmetic and Assignment Operator"
   ]
  }
 ],
 "metadata": {
  "kernelspec": {
   "display_name": "Python 3",
   "language": "python",
   "name": "python3"
  },
  "language_info": {
   "codemirror_mode": {
    "name": "ipython",
    "version": 3
   },
   "file_extension": ".py",
   "mimetype": "text/x-python",
   "name": "python",
   "nbconvert_exporter": "python",
   "pygments_lexer": "ipython3",
   "version": "3.7.4"
  }
 },
 "nbformat": 4,
 "nbformat_minor": 2
}
