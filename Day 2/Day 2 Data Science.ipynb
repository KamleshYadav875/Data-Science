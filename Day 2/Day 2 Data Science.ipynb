{
 "cells": [
  {
   "cell_type": "markdown",
   "metadata": {},
   "source": [
    "# Day 2\n",
    "###  Python Fundamental\n",
    "\n",
    "**Operators**\n",
    "    * Comparison Operator\n",
    "    * Logical Operators\n",
    "    * Bitwise Operators\n",
    "    * Membership Operators\n",
    "**Strings**\n",
    "    * String formating\n",
    "    * String methods\n",
    "**Loops and Conditionals**\n",
    "    * if\n",
    "    * if else\n",
    "    * if elif else\n",
    "    * for \n",
    "    * while"
   ]
  }
 ],
 "metadata": {
  "kernelspec": {
   "display_name": "Python 3",
   "language": "python",
   "name": "python3"
  },
  "language_info": {
   "codemirror_mode": {
    "name": "ipython",
    "version": 3
   },
   "file_extension": ".py",
   "mimetype": "text/x-python",
   "name": "python",
   "nbconvert_exporter": "python",
   "pygments_lexer": "ipython3",
   "version": "3.7.4"
  }
 },
 "nbformat": 4,
 "nbformat_minor": 2
}
